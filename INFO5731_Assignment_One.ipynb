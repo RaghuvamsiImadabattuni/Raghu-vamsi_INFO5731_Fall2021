{
  "nbformat": 4,
  "nbformat_minor": 0,
  "metadata": {
    "colab": {
      "name": "INFO5731_Assignment_One.ipynb",
      "provenance": [],
      "collapsed_sections": [],
      "include_colab_link": true
    },
    "kernelspec": {
      "display_name": "Python 3",
      "language": "python",
      "name": "python3"
    },
    "language_info": {
      "codemirror_mode": {
        "name": "ipython",
        "version": 3
      },
      "file_extension": ".py",
      "mimetype": "text/x-python",
      "name": "python",
      "nbconvert_exporter": "python",
      "pygments_lexer": "ipython3",
      "version": "3.8.5"
    }
  },
  "cells": [
    {
      "cell_type": "markdown",
      "metadata": {
        "id": "view-in-github",
        "colab_type": "text"
      },
      "source": [
        "<a href=\"https://colab.research.google.com/github/RaghuvamsiImadabattuni/Raghu-vamsi_INFO5731_Fall2021/blob/main/INFO5731_Assignment_One.ipynb\" target=\"_parent\"><img src=\"https://colab.research.google.com/assets/colab-badge.svg\" alt=\"Open In Colab\"/></a>"
      ]
    },
    {
      "cell_type": "markdown",
      "metadata": {
        "id": "Ryk8D1Q4Wsrp"
      },
      "source": [
        "# **INFO5731 Assignment One**"
      ]
    },
    {
      "cell_type": "markdown",
      "metadata": {
        "id": "90_NR8c5XGWc"
      },
      "source": [
        "# Question 1\n",
        "\n",
        "(20 points). Write a Python program to generate 12 random numbers between 1 and 100. Sort the list of numbers in ascending order and print it out. Sort the list of numbers in descending order and print it out. Calculate the average for the group and print it out."
      ]
    },
    {
      "cell_type": "code",
      "metadata": {
        "id": "5QX6bJjGWXY9",
        "colab": {
          "base_uri": "https://localhost:8080/"
        },
        "outputId": "25386e0e-93c4-469d-89df-b367e9d5bf99"
      },
      "source": [
        "import random\n",
        "\n",
        "#importing random numbers in the range of 100\n",
        "random_numbers = random.sample(range(1,100),12)\n",
        "print(\"\\n\", \"12 random numbers: \", random_numbers)\n",
        "\n",
        "#Sorting the descending_numbers in ascending order\n",
        "random_numbers.sort()\n",
        "print(\"\\n\", \"Ascending order: \", random_numbers)\n",
        "\n",
        "#sorting the random_number in descending order\n",
        "random_numbers.sort(reverse = True)\n",
        "print(\"desending order: \", random_numbers)\n",
        "\n",
        "#Calculating the average of random_numbers\n",
        "avg = sum(random_numbers)/len(random_numbers)\n",
        "print(\"\\n\", \"Average is\", round(avg,2))\n",
        "\n"
      ],
      "execution_count": 3,
      "outputs": [
        {
          "output_type": "stream",
          "name": "stdout",
          "text": [
            "\n",
            " 12 random numbers:  [68, 91, 35, 83, 11, 89, 93, 40, 84, 29, 38, 46]\n",
            "\n",
            " Ascending order:  [11, 29, 35, 38, 40, 46, 68, 83, 84, 89, 91, 93]\n",
            "desending order:  [93, 91, 89, 84, 83, 68, 46, 40, 38, 35, 29, 11]\n",
            "\n",
            " Average is 58.92\n"
          ]
        }
      ]
    },
    {
      "cell_type": "markdown",
      "metadata": {
        "id": "1F_PZdH9Sh49"
      },
      "source": [
        "# Question 2\n",
        "(25 points). Write a program that will do the following string formatting tasks:\n",
        "\n",
        "(1) Ask the user to enter two sentences.\n",
        "\n",
        "(2) Make each sentence into a list. Each element in the list should correspond to a word in the sentence. For example, if the sentence is \"Alas! Am I alive? This is my first python program\", the program should print out ['Alas, '!', 'Am', 'I', 'alive, '?', 'This', 'is', 'my', 'first', 'python', 'program'].\n",
        "\n",
        "(3) Compare the two sentences. Print out a list of words that occur in both sentences.\n",
        "\n",
        "(4) Remove any punctuation from the sentence and print it back out. It should remove at least the following characters, but it can remove more: period(“.”), comma (“,”), semicolon (“;”), and colon (“:”)\n",
        "\n",
        "(5) Count the number of vowels in the sentences. Print out each vowel and the number of times it appears in the sentences, such as: a:2, e:1, i:0, etc"
      ]
    },
    {
      "cell_type": "code",
      "metadata": {
        "id": "Y0oOSlsOS0cq",
        "colab": {
          "base_uri": "https://localhost:8080/"
        },
        "outputId": "a32b0736-879e-4f25-893f-eda548f79588"
      },
      "source": [
        "#Asking user to enter two sentences\n",
        "F, S = (input(\"Enter First_sentence: \"), input(\"Enter Second_sentence: \"))\n",
        "\n",
        "#Spliting sentences into a list as elements\n",
        "List = F.split(' ') + S.split(' ')\n",
        "print(\"\\n\", \"List of both sentences: \", List)\n",
        "\n",
        "#Comparing two sentences and printing out repeates words\n",
        "repeated_words = list({x for x in List if List.count(x) > 1})\n",
        "print (\"\\n\", \"List of repeated words: \", repeated_words)\n",
        "\n",
        "#Removing punctuvation in both sentences\n",
        "Sentence = str.maketrans(\".,:;!?\", 6 * \" \")\n",
        "Both_sentences = F.translate(Sentence) + S.translate(Sentence)\n",
        "print(\"\\n\",F.translate(Sentence),\"\\n\",S.translate(Sentence))\n",
        "\n",
        "#Counting the number of vowels in both sentences\n",
        "Lowercase_sentence = Both_sentences.lower()\n",
        "Vowels = {}\n",
        "for vowel in \"aeiou\":\n",
        "    count = Lowercase_sentence.count(vowel)\n",
        "    Vowels[vowel] = count\n",
        "print(\"\\n\", \"Number of vowels in both sentences are: \", Vowels)\n",
        "\n"
      ],
      "execution_count": 4,
      "outputs": [
        {
          "output_type": "stream",
          "name": "stdout",
          "text": [
            "Enter First_sentence: This is Raghu !\n",
            "Enter Second_sentence: This is my first assignment .\n",
            "\n",
            " List of both sentences:  ['This', 'is', 'Raghu', '!', 'This', 'is', 'my', 'first', 'assignment', '.']\n",
            "\n",
            " List of repeated words:  ['is', 'This']\n",
            "\n",
            " This is Raghu   \n",
            " This is my first assignment  \n",
            "\n",
            " Number of vowels in both sentences are:  {'a': 2, 'e': 1, 'i': 6, 'o': 0, 'u': 1}\n"
          ]
        }
      ]
    },
    {
      "cell_type": "markdown",
      "metadata": {
        "id": "CmFoI4jDS9nx"
      },
      "source": [
        "# Question 3 \n",
        "\n",
        "(15 points). The formula that describes the volume V of a sphere with radius r is the following:\n",
        "\n",
        "$ V=\\frac{4}{3}\\ast\\ \\pi\\ast\\ r^3 $\n",
        "\n",
        "Write a program to calculate the value of V when r is in the range of 1–10. Output the result in the following format:\n",
        "\n",
        "\tr\tV\n",
        "\t1\t…\n",
        "\t2\t…\n",
        "\t3\t…\n"
      ]
    },
    {
      "cell_type": "code",
      "metadata": {
        "id": "pEyqeioAT95b",
        "colab": {
          "base_uri": "https://localhost:8080/"
        },
        "outputId": "4bdbfd4c-1612-46d1-e238-b0fb6b5c1ccd"
      },
      "source": [
        "#importing math\n",
        "import math\n",
        "pi = 3.14\n",
        "#Volume Function\n",
        "def volume(r):\n",
        "  return(4/3*pi*r**3)\n",
        "\n",
        "#Printing the volume data\n",
        "print('r V')\n",
        "for r in range(1,11):\n",
        "  print(str(r)+\" \"+str(\"{:.2f}\".format(volume(r))))\n",
        "\n",
        "\n"
      ],
      "execution_count": 23,
      "outputs": [
        {
          "output_type": "stream",
          "name": "stdout",
          "text": [
            "r V\n",
            "1 4.19\n",
            "2 33.49\n",
            "3 113.04\n",
            "4 267.95\n",
            "5 523.33\n",
            "6 904.32\n",
            "7 1436.03\n",
            "8 2143.57\n",
            "9 3052.08\n",
            "10 4186.67\n"
          ]
        }
      ]
    },
    {
      "cell_type": "markdown",
      "metadata": {
        "id": "z3tBE7E-Xn5X"
      },
      "source": [
        "# Question 4\n",
        "\n",
        "(40 points). In the field of Data Science, data is often formatted as a comma-delimited (CSV) file, where each line in a file corresponds to a field's value. Refer to Chapter 9 (p. 106) for more information on comma-delimited files. To answer this question, you will need to download the file [Assignment1_denton_housing.csv](https://github.com/unt-iialab/info5731-fall2021/blob/main/assignments/Assignment1_denton_housing.csv) included with this assignment. The file [Assignment1_denton_housing.csv](https://github.com/unt-iialab/info5731-fall2021/blob/main/assignments/Assignment1_denton_housing.csv) contains statistics about housing in the city of Denton from 2008 to 2014. Write a program to implement the following questions.\n",
        "\n",
        "(1) (10 pts) Calculate the difference in the number of Occupied Housing Units from year to year and print it. The difference must be calculated for the consecutive years such as 2008-2009, 2009-2010 etc. Finally, print the values in the ascending order.\n",
        "\n",
        "(2) (10 pts) For all the years, calculate the percentage of housing units which are vacant an occupied. Print the results in the following format:\n",
        "\n",
        "Year Vacant Housing Units Occupied Housing Units\n",
        "\n",
        "    2008  30%   70%                          \n",
        "\t2009 ----- -----\n",
        "\t2010 ----- -----\n",
        "    2011 ----- -----\n",
        "\t2012 ----- -----\n",
        "    2013 ----- -----\n",
        "\t2014 ----- -----\n",
        "  \n",
        "  \n",
        "\n",
        "(3) (10 pts) Calculate and print the valued and years in which the highest number of housing units were vacant and occupied. Print the results in the following format:  \n",
        "\n",
        "                              Year\tValue\n",
        "\tVacant Housing Units\t  -----   -----\n",
        "\tOccupied Housing Units\t-----   -----\n",
        "\n",
        "(4) (10 pts) Calculate the harmonic mean of the total housing units and print it out. You can find the information about harmonic mean here: https://ncalculators.com/statistics/harmonic-mean-calculator.htm"
      ]
    },
    {
      "cell_type": "code",
      "metadata": {
        "id": "lqGYuHBhcsRH",
        "colab": {
          "base_uri": "https://localhost:8080/"
        },
        "outputId": "904572f9-a4d3-4ea5-8c45-6296080a37a5"
      },
      "source": [
        "import csv\n",
        "from csv import reader\n",
        "from operator import itemgetter\n",
        "\n",
        "with open(\"/content/Assignment1_denton_housing.csv\") as f:\n",
        "    reader = reader(f) # read rows into a dictionary format\n",
        "    data_list=  (sorted(list(reader),key=itemgetter(0)))\n",
        "    occupiedHouse_data=[]\n",
        "    current_val = 0\n",
        "    current_year  = 0\n",
        "    for i in data_list:\n",
        "        if i[1] == 'Occupied Housing Units':\n",
        "            previous_value = current_val\n",
        "            current_val = int(i[2])\n",
        "            previous_year = current_year\n",
        "            current_year = int(i[0])\n",
        "            occupiedHouse_data.append([(previous_year,current_year),abs(previous_value-current_val)])\n",
        "    occupiedHouse_data = occupiedHouse_data[1:]\n",
        "    print(\"Printing Difference in Occupied Housing Units between consecutive years\")\n",
        "    for elem in occupiedHouse_data:\n",
        "        print(elem[0],\" - \",elem[1] )\n",
        "    occupiedHouse_data = (sorted(occupiedHouse_data,key=itemgetter(1)))\n",
        "    print(\"\\nPrinting in Ascending Order, the Difference in Occupied Housing Units between consecutive years\")\n",
        "\n",
        "    for elem in occupiedHouse_data:\n",
        "        print(elem[0],\" - \",elem[1] )\n",
        "\n",
        "\n",
        "\n",
        "\n"
      ],
      "execution_count": 10,
      "outputs": [
        {
          "output_type": "stream",
          "name": "stdout",
          "text": [
            "Printing Difference in Occupied Housing Units between consecutive years\n",
            "(2008, 2009)  -  795\n",
            "(2009, 2010)  -  5091\n",
            "(2010, 2011)  -  303\n",
            "(2011, 2012)  -  1404\n",
            "(2012, 2013)  -  1565\n",
            "(2013, 2014)  -  2622\n",
            "\n",
            "Printing in Ascending Order, the Difference in Occupied Housing Units between consecutive years\n",
            "(2010, 2011)  -  303\n",
            "(2008, 2009)  -  795\n",
            "(2011, 2012)  -  1404\n",
            "(2012, 2013)  -  1565\n",
            "(2013, 2014)  -  2622\n",
            "(2009, 2010)  -  5091\n"
          ]
        }
      ]
    },
    {
      "cell_type": "code",
      "metadata": {
        "colab": {
          "base_uri": "https://localhost:8080/"
        },
        "id": "chXNjIm8qAyU",
        "outputId": "18083ea9-292d-4b86-faa1-2ae253505249"
      },
      "source": [
        "import csv\n",
        "from csv import reader\n",
        "from operator import itemgetter\n",
        "\n",
        "with open(\"/content/Assignment1_denton_housing.csv\") as f:\n",
        "    reader = reader(f) # read rows into a dictionary format\n",
        "    data_list=  (sorted(list(reader),key=itemgetter(0)))\n",
        "    year_housing_data=[]\n",
        "    current_value = 0\n",
        "    current_year  = 0\n",
        "    vacant_house_percentage = occupied_house_percentage = 0\n",
        "    for i in data_list:\n",
        "        if i[1] == \"Vacant Housing Units\" :\n",
        "            vacant_house_percentage = int(i[2])\n",
        "        if i[1] == 'Occupied Housing Units':\n",
        "            occupied_house_percentage = int(i[2])\n",
        "        if occupied_house_percentage and vacant_house_percentage :\n",
        "            vacant_house_percentage = round((vacant_house_percentage/(occupied_house_percentage + vacant_house_percentage))*100,1)\n",
        "            occupied_house_percentage = 100 - vacant_house_percentage\n",
        "            year_housing_data.append([i[0],vacant_house_percentage,occupied_house_percentage])\n",
        "            vacant_house_percentage = occupied_house_percentage = 0\n",
        "    #Printing the report \n",
        "    print(\"Year    Vacant_Houses%  Occupied_houses%\")\n",
        "    for i in year_housing_data:\n",
        "        print (str(i[0]) + \"       \" + str(i[1]) + \"%\" + \"          \" + str(i[2]) + \"%\")"
      ],
      "execution_count": 33,
      "outputs": [
        {
          "output_type": "stream",
          "name": "stdout",
          "text": [
            "Year    Vacant_Houses%  Occupied_houses%\n",
            "2008       10.9%          89.1%\n",
            "2009       9.1%          90.9%\n",
            "2010       8.1%          91.9%\n",
            "2011       9.4%          90.6%\n",
            "2012       6.7%          93.3%\n",
            "2013       8.8%          91.2%\n",
            "2014       5.7%          94.3%\n"
          ]
        }
      ]
    },
    {
      "cell_type": "code",
      "metadata": {
        "colab": {
          "base_uri": "https://localhost:8080/"
        },
        "id": "NHdwW22Lvy7x",
        "outputId": "7064cd3f-8f34-40d2-c9c5-547c3dd051c7"
      },
      "source": [
        "import csv\n",
        "from csv import reader\n",
        "from operator import itemgetter\n",
        "\n",
        "with open(\"/content/Assignment1_denton_housing.csv\") as f:\n",
        "    reader = reader(f) # read rows into a dictionary format\n",
        "    data_list=  (sorted(list(reader),key=itemgetter(0)))\n",
        "    vacant_houses = []\n",
        "    occupied_houses = []\n",
        "    for i in data_list:\n",
        "        if i[1] == \"Vacant Housing Units\" :\n",
        "            vacant_houses.append([int(i[2]),int(i[0])])\n",
        "        if i[1] == 'Occupied Housing Units':\n",
        "            occupied_houses.append([int(i[2]),int(i[0])])\n",
        "    vacant_houses=(sorted(vacant_houses,key=itemgetter(0)))\n",
        "    occupied_houses =(sorted(occupied_houses,key=itemgetter(0)))\n",
        "    vacant_houses = vacant_houses[-1:]\n",
        "    occupied_houses = occupied_houses[-1:]\n",
        "    #Printing data report\n",
        "    print(\"                         Year    Value\")\n",
        "    print(f\"Vacant Houses            \" + str(vacant_houses[-1:][0][1])+\"    \" + str(vacant_houses[-1:][0][0]))\n",
        "    print(f\"Occupied Houses          \" + str(occupied_houses[-1:][0][1])+\"    \" + str(occupied_houses[-1:][0][0]))"
      ],
      "execution_count": 39,
      "outputs": [
        {
          "output_type": "stream",
          "name": "stdout",
          "text": [
            "                         Year    Value\n",
            "Vacant Houses            2008    4483\n",
            "Occupied Houses          2014    46295\n"
          ]
        }
      ]
    },
    {
      "cell_type": "code",
      "metadata": {
        "colab": {
          "base_uri": "https://localhost:8080/"
        },
        "id": "gUC4OorSyVRD",
        "outputId": "6c6355f9-9f29-4386-9cc6-5f5da368ef35"
      },
      "source": [
        "import csv\n",
        "from csv import reader\n",
        "from operator import itemgetter\n",
        "\n",
        "with open(\"/content/Assignment1_denton_housing.csv\") as f:\n",
        "    reader = reader(f) # read rows into a dictionary format\n",
        "    data_list=  (sorted(list(reader),key=itemgetter(0)))\n",
        "    total_houses = []\n",
        "    h_mean = 0\n",
        "    for i in data_list:\n",
        "        if i[1] == \"Total Housing Units\" :\n",
        "            total_houses.append(int(i[2]))\n",
        "    #Calculating Harmonic Mean of the given data\n",
        "    for n in total_houses:\n",
        "      h_mean += 1/n\n",
        "    h_mean = len(total_houses)/ h_mean\n",
        "    print(\"Harmonic mean of Total houses = \",(\"{:.2f}\".format(h_mean)))"
      ],
      "execution_count": 46,
      "outputs": [
        {
          "output_type": "stream",
          "name": "stdout",
          "text": [
            "Harmonic mean of Total houses =  44398.29\n"
          ]
        }
      ]
    },
    {
      "cell_type": "code",
      "metadata": {
        "id": "I-ak52LuzMGt"
      },
      "source": [
        ""
      ],
      "execution_count": null,
      "outputs": []
    }
  ]
}