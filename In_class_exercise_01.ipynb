{
  "nbformat": 4,
  "nbformat_minor": 0,
  "metadata": {
    "colab": {
      "name": "In_class_exercise_01.ipynb",
      "provenance": [],
      "collapsed_sections": [],
      "include_colab_link": true
    },
    "kernelspec": {
      "display_name": "Python 3",
      "language": "python",
      "name": "python3"
    },
    "language_info": {
      "codemirror_mode": {
        "name": "ipython",
        "version": 3
      },
      "file_extension": ".py",
      "mimetype": "text/x-python",
      "name": "python",
      "nbconvert_exporter": "python",
      "pygments_lexer": "ipython3",
      "version": "3.8.5"
    }
  },
  "cells": [
    {
      "cell_type": "markdown",
      "metadata": {
        "id": "view-in-github",
        "colab_type": "text"
      },
      "source": [
        "<a href=\"https://colab.research.google.com/github/RaghuvamsiImadabattuni/Raghu-vamsi_INFO5731_Fall2021/blob/main/In_class_exercise_01.ipynb\" target=\"_parent\"><img src=\"https://colab.research.google.com/assets/colab-badge.svg\" alt=\"Open In Colab\"/></a>"
      ]
    },
    {
      "cell_type": "markdown",
      "metadata": {
        "id": "DymRJbxDBCnf"
      },
      "source": [
        "# **The first In-class-exercise (09/01/2021, 40 points in total)**"
      ]
    },
    {
      "cell_type": "markdown",
      "metadata": {
        "id": "03jb4GZsBkBS"
      },
      "source": [
        "(1) Write a Python program to calculate the length of a string. (4 points)"
      ]
    },
    {
      "cell_type": "code",
      "metadata": {
        "colab": {
          "base_uri": "https://localhost:8080/"
        },
        "id": "YaGLbSHHB8Ej",
        "outputId": "f0999297-d1b7-48a5-8582-415829ce6eaa"
      },
      "source": [
        "string = input(\"Please enter the string:........\")\n",
        "print(\"Length of the string is\", len(string))"
      ],
      "execution_count": null,
      "outputs": [
        {
          "output_type": "stream",
          "name": "stdout",
          "text": [
            "Please enter the string:........Raghu Vamsi\n",
            "Length of the string is 11\n"
          ]
        }
      ]
    },
    {
      "cell_type": "markdown",
      "metadata": {
        "id": "jJDe71iLB616"
      },
      "source": [
        "(2) Write a Python program to count the number of characters in a string. (4 points)\n",
        "\n",
        "Sample String : 'google.com‘, \n",
        "\n",
        "Expected Result : {'o': 3, 'g': 2, '.': 1, 'e': 1, 'l': 1, 'm': 1, 'c': 1}"
      ]
    },
    {
      "cell_type": "code",
      "metadata": {
        "id": "MtKskTzbCLaU",
        "colab": {
          "base_uri": "https://localhost:8080/"
        },
        "outputId": "82a03a50-27a0-4624-ced3-7e27b56ef98f"
      },
      "source": [
        "String = \"Google_Colab\"\n",
        "Frequency = {}\n",
        "for i in String:\n",
        "  if i in Frequency:\n",
        "    Frequency[i] += 1\n",
        "  else:\n",
        "    Frequency[i] = 1\n",
        "print(Frequency)\n"
      ],
      "execution_count": 8,
      "outputs": [
        {
          "output_type": "stream",
          "name": "stdout",
          "text": [
            "{'G': 1, 'o': 3, 'g': 1, 'l': 2, 'e': 1, '_': 1, 'C': 1, 'a': 1, 'b': 1}\n"
          ]
        }
      ]
    },
    {
      "cell_type": "markdown",
      "metadata": {
        "id": "55W9AMdXCSpV"
      },
      "source": [
        "(3) Write a Python program to sum all the items in a list. (4 points)"
      ]
    },
    {
      "cell_type": "code",
      "metadata": {
        "colab": {
          "base_uri": "https://localhost:8080/"
        },
        "id": "I57NXsauCec2",
        "outputId": "7e133341-e304-4c49-9e42-a1249d1cd078"
      },
      "source": [
        "Points = 40\n",
        "Extra_points = 4\n",
        "Total_points = [Points, Extra_points]\n",
        "print(\"Chance to get total points are........\", sum(Total_points))\n"
      ],
      "execution_count": null,
      "outputs": [
        {
          "output_type": "stream",
          "name": "stdout",
          "text": [
            "Chance to get total points are........ 44\n"
          ]
        }
      ]
    },
    {
      "cell_type": "markdown",
      "metadata": {
        "id": "4ulBZ6yhCi9F"
      },
      "source": [
        "(4) Write a Python program to get a string from a given string where all occurrences of its first char have been changed to '\\$', except the first char itself. (4 points)\n",
        "\n",
        "Sample String : 'restart‘, \n",
        "\n",
        "Expected Result : 'resta\\$t'"
      ]
    },
    {
      "cell_type": "code",
      "metadata": {
        "id": "Fj0XhwbBCw2o",
        "colab": {
          "base_uri": "https://localhost:8080/"
        },
        "outputId": "3c9562d0-da15-4741-b069-78fdee8f1481"
      },
      "source": [
        "def Replace_char(string1):\n",
        "  char = string1[0]\n",
        "  length = len(string1)\n",
        "  string1 = string1.replace(char, '$')\n",
        "  string1 = char + string1[1:]\n",
        "\n",
        "  return string1\n",
        "\n",
        "print(Replace_char('google'))\n"
      ],
      "execution_count": 16,
      "outputs": [
        {
          "output_type": "stream",
          "name": "stdout",
          "text": [
            "goo$le\n"
          ]
        }
      ]
    },
    {
      "cell_type": "markdown",
      "metadata": {
        "id": "_bIP7s1MCzue"
      },
      "source": [
        "(5) Write a program with python which could accept two parameter a and b to calculate and output the result of S, where \n",
        "\n",
        "$\\ S=3.14*(1+a/b)^3$ (4 points)\n",
        "\n"
      ]
    },
    {
      "cell_type": "code",
      "metadata": {
        "id": "w79QilHXD3Mg",
        "colab": {
          "base_uri": "https://localhost:8080/"
        },
        "outputId": "89831064-3a84-4d5f-fecf-9d594d55cb40"
      },
      "source": [
        "# write your answer here\n",
        "def my_function(a,b):\n",
        "  import math\n",
        "  s = 3.14*((1+a/b)**3)\n",
        "  return s\n",
        "print(\"s = \", my_function(0,9))\n",
        "print(\"s = \", my_function(0,2))\n",
        "print(\"s = \", my_function(20,21))"
      ],
      "execution_count": 9,
      "outputs": [
        {
          "output_type": "stream",
          "name": "stdout",
          "text": [
            "s =  3.14\n",
            "s =  3.14\n",
            "s =  23.368096317892235\n"
          ]
        }
      ]
    },
    {
      "cell_type": "markdown",
      "metadata": {
        "id": "xCa2bK9aD4Q3"
      },
      "source": [
        "(6) Write a Python program to concatenate following dictionaries to create a new one. (4 points)\n",
        "\n",
        "Sample Dictionary : dic1={1:10, 2:20}, dic2={3:30, 4:40}, dic3={5:50,6:60}, \n",
        "\n",
        "Expected Result : {1: 10, 2: 20, 3: 30, 4: 40, 5: 50, 6: 60}\n"
      ]
    },
    {
      "cell_type": "code",
      "metadata": {
        "id": "_z4aLqAbEET1",
        "colab": {
          "base_uri": "https://localhost:8080/"
        },
        "outputId": "202c3dce-b272-49c2-c6ed-6dffc5c5b5f6"
      },
      "source": [
        "dict1 = {'R':18, 'a':1, 'g':7}\n",
        "dict2 = {'h':8, 'u':21, 'v':22}\n",
        "dict3 = {'a':1, 'm':13, 's':19, 'i':9}\n",
        "\n",
        "Result = dict(dict1)\n",
        "Result.update(dict2)\n",
        "Result.update(dict3)\n",
        "\n",
        "print(Result)\n"
      ],
      "execution_count": 11,
      "outputs": [
        {
          "output_type": "stream",
          "name": "stdout",
          "text": [
            "{'R': 18, 'a': 1, 'g': 7, 'h': 8, 'u': 21, 'v': 22, 'm': 13, 's': 19, 'i': 9}\n"
          ]
        }
      ]
    },
    {
      "cell_type": "markdown",
      "metadata": {
        "id": "0v48Vqa7FrQh"
      },
      "source": [
        "(7) Write a Python program to check whether an element exists within a tuple. (4 points)"
      ]
    },
    {
      "cell_type": "code",
      "metadata": {
        "id": "7WEmgq-DF2P1",
        "colab": {
          "base_uri": "https://localhost:8080/"
        },
        "outputId": "b66cb17a-24c9-4014-aa88-7f5b77018aa4"
      },
      "source": [
        "tuple = ('python', 'pycharm', 'google_colab', 'github', 'jupyter')\n",
        "i = input('.........')\n",
        "if i in tuple:\n",
        "  print(\"Yes, it exists in tuple\")\n",
        "else:\n",
        "  print(\"No, it doesn't exists in tuple\")\n"
      ],
      "execution_count": 12,
      "outputs": [
        {
          "output_type": "stream",
          "name": "stdout",
          "text": [
            ".........jupyter\n",
            "Yes, it exists in tuple\n"
          ]
        }
      ]
    },
    {
      "cell_type": "markdown",
      "metadata": {
        "id": "vD5PYLMuGga_"
      },
      "source": [
        "(8) Write a Python program to find maximum and the minimum value in a set. (4 points)"
      ]
    },
    {
      "cell_type": "code",
      "metadata": {
        "id": "t0D5kdJUGjjw",
        "colab": {
          "base_uri": "https://localhost:8080/"
        },
        "outputId": "3cc28f84-d3c4-4fd8-efac-0068af90b61b"
      },
      "source": [
        "Age_s = [21, 32, 28, 34, 26, 31]\n",
        "\n",
        "print(\"Maximun value in a set......\", max(Age_s))\n",
        "print(\"Minimum value in a set......\", min(Age_s))\n"
      ],
      "execution_count": 14,
      "outputs": [
        {
          "output_type": "stream",
          "name": "stdout",
          "text": [
            "Maximun value in a set...... 34\n",
            "Minimum value in a set...... 21\n"
          ]
        }
      ]
    },
    {
      "cell_type": "markdown",
      "metadata": {
        "id": "uHkd-y5VhVWC"
      },
      "source": [
        "(9) Write a Python program to randomly divide the students in this class into six groups for term projects, each group should have at least 4 students but no more than 6 students (including 6). Here is the students list: (4 points)\n",
        "\n",
        "studnet_list = ['vmb0067','pc0353','snd0097','yye0005','sg0940','bk0301','rak0120','rrk0058','spk0057','vl0135','nm0547','pn0159',\n",
        "           'msp0174','dd0420','ds0761','rs0850','ss1995','at0739','at0768','mv0299','tv0119','dy0091','py0080','ttp0037','hc0439','ri0094','pk0339', 'hn0145','mn0426']"
      ]
    },
    {
      "cell_type": "code",
      "metadata": {
        "id": "3iGbmcOBhTwy",
        "colab": {
          "base_uri": "https://localhost:8080/"
        },
        "outputId": "d3daff04-2c43-40ae-f767-606fcdd008b8"
      },
      "source": [
        "studnet_list = ['vmb0067','pc0353','snd0097','yye0005','sg0940','bk0301','rak0120','rrk0058','spk0057','vl0135','nm0547','pn0159', 'msp0174','dd0420','ds0761','rs0850','ss1995','at0739','at0768','mv0299','tv0119','dy0091','py0080','ttp0037','hc0439','ri0094','pk0339', 'hn0145','mn0426']\n",
        "\n",
        "import random\n",
        "def select_random_Group(lst, n):\n",
        "    random.shuffle(lst)\n",
        "    result = []\n",
        "    for i in range(0, len(lst), n):\n",
        "        result.append(lst[i:i + n])\n",
        "    return result\n",
        "\n",
        "print(select_random_Group(studnet_list, 5))\n"
      ],
      "execution_count": 22,
      "outputs": [
        {
          "output_type": "stream",
          "name": "stdout",
          "text": [
            "[['ttp0037', 'hn0145', 'yye0005', 'pn0159', 'mv0299'], ['bk0301', 'sg0940', 'py0080', 'msp0174', 'vmb0067'], ['pc0353', 'rrk0058', 'ri0094', 'pk0339', 'tv0119'], ['at0768', 'ss1995', 'mn0426', 'nm0547', 'rs0850'], ['at0739', 'vl0135', 'ds0761', 'spk0057', 'dd0420'], ['dy0091', 'snd0097', 'rak0120', 'hc0439']]\n"
          ]
        }
      ]
    },
    {
      "cell_type": "markdown",
      "metadata": {
        "id": "KzS2X1SmEvbb"
      },
      "source": [
        "(10) Write a Python program to find the duplicate elements in a given array of integers. Return -1 If there are no such elements. (4 points)"
      ]
    },
    {
      "cell_type": "code",
      "metadata": {
        "id": "vVvLcj9JEvbc",
        "colab": {
          "base_uri": "https://localhost:8080/"
        },
        "outputId": "2ded4428-d367-43d4-c6b6-399d1e044c3b"
      },
      "source": [
        "def duplicateCheck(nums):\n",
        "    num_set = set()\n",
        "    NoDuplicate = -1\n",
        "\n",
        "    for i in range(len(nums)):\n",
        "\n",
        "        if nums[i] in num_set:\n",
        "            return nums[i]\n",
        "        else:\n",
        "            num_set.add(nums[i])\n",
        "\n",
        "    return NoDuplicate\n",
        "\n",
        "print(duplicateCheck([1, 2, 2, 3, 4, 5]), \"is the duplicate number.\")\n",
        "print(duplicateCheck([1, 2, 3, 4, 5]), \"there no duplicate number.\")\n"
      ],
      "execution_count": 15,
      "outputs": [
        {
          "output_type": "stream",
          "name": "stdout",
          "text": [
            "2 is the duplicate number.\n",
            "-1 there no duplicate number.\n"
          ]
        }
      ]
    },
    {
      "cell_type": "markdown",
      "metadata": {
        "id": "QZnjaWUMEvbc"
      },
      "source": [
        "(11) Write a Python program to select all the Sundays of a specified year. (4 extra points)"
      ]
    },
    {
      "cell_type": "code",
      "metadata": {
        "id": "Sr8HsMD1Evbd",
        "colab": {
          "base_uri": "https://localhost:8080/"
        },
        "outputId": "afe915ce-c2c5-42cd-8367-813989c0dbdb"
      },
      "source": [
        "from datetime import date, timedelta\n",
        "def sundays_Total(year):\n",
        "       Date = date(year, 1, 1)\n",
        "       Date = Date + timedelta(days = 6 - Date.weekday())  \n",
        "       while Date.year == year:\n",
        "          yield Date\n",
        "          Date = Date + timedelta(days = 7)\n",
        "for s in sundays_Total(1998):\n",
        "   print(s)\n"
      ],
      "execution_count": 23,
      "outputs": [
        {
          "output_type": "stream",
          "name": "stdout",
          "text": [
            "1998-01-04\n",
            "1998-01-11\n",
            "1998-01-18\n",
            "1998-01-25\n",
            "1998-02-01\n",
            "1998-02-08\n",
            "1998-02-15\n",
            "1998-02-22\n",
            "1998-03-01\n",
            "1998-03-08\n",
            "1998-03-15\n",
            "1998-03-22\n",
            "1998-03-29\n",
            "1998-04-05\n",
            "1998-04-12\n",
            "1998-04-19\n",
            "1998-04-26\n",
            "1998-05-03\n",
            "1998-05-10\n",
            "1998-05-17\n",
            "1998-05-24\n",
            "1998-05-31\n",
            "1998-06-07\n",
            "1998-06-14\n",
            "1998-06-21\n",
            "1998-06-28\n",
            "1998-07-05\n",
            "1998-07-12\n",
            "1998-07-19\n",
            "1998-07-26\n",
            "1998-08-02\n",
            "1998-08-09\n",
            "1998-08-16\n",
            "1998-08-23\n",
            "1998-08-30\n",
            "1998-09-06\n",
            "1998-09-13\n",
            "1998-09-20\n",
            "1998-09-27\n",
            "1998-10-04\n",
            "1998-10-11\n",
            "1998-10-18\n",
            "1998-10-25\n",
            "1998-11-01\n",
            "1998-11-08\n",
            "1998-11-15\n",
            "1998-11-22\n",
            "1998-11-29\n",
            "1998-12-06\n",
            "1998-12-13\n",
            "1998-12-20\n",
            "1998-12-27\n"
          ]
        }
      ]
    }
  ]
}