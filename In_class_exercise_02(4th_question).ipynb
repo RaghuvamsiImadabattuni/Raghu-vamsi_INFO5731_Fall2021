{
  "nbformat": 4,
  "nbformat_minor": 0,
  "metadata": {
    "colab": {
      "name": "In-class-exercise-02(4th question).ipynb",
      "provenance": [],
      "authorship_tag": "ABX9TyM6csbqDDFAUKAlX32cJC1r",
      "include_colab_link": true
    },
    "kernelspec": {
      "name": "python3",
      "display_name": "Python 3"
    },
    "language_info": {
      "name": "python"
    }
  },
  "cells": [
    {
      "cell_type": "markdown",
      "metadata": {
        "id": "view-in-github",
        "colab_type": "text"
      },
      "source": [
        "<a href=\"https://colab.research.google.com/github/RaghuvamsiImadabattuni/Raghu-vamsi_INFO5731_Fall2021/blob/main/In_class_exercise_02(4th_question).ipynb\" target=\"_parent\"><img src=\"https://colab.research.google.com/assets/colab-badge.svg\" alt=\"Open In Colab\"/></a>"
      ]
    },
    {
      "cell_type": "markdown",
      "source": [
        "Question 4 (10 points): Write python code to collect 1000 posts from Twitter, or Facebook, or Instagram. You can either use hashtags, keywords, user_name, user_id, or other information to collect the data.\n",
        "\n",
        "The following information needs to be collected:\n",
        "\n",
        "(1) User_name\n",
        "\n",
        "(2) Posted time\n",
        "\n",
        "(3) Text"
      ],
      "metadata": {
        "id": "suaBK-LwL3ke"
      }
    },
    {
      "cell_type": "code",
      "execution_count": 1,
      "metadata": {
        "colab": {
          "base_uri": "https://localhost:8080/"
        },
        "id": "_aRhZKqBL2GN",
        "outputId": "df89aefe-f499-4320-a90b-0e1ff5578329"
      },
      "outputs": [
        {
          "output_type": "stream",
          "name": "stdout",
          "text": [
            "Collecting tweet-preprocessor\n",
            "  Downloading tweet_preprocessor-0.6.0-py3-none-any.whl (27 kB)\n",
            "Installing collected packages: tweet-preprocessor\n",
            "Successfully installed tweet-preprocessor-0.6.0\n"
          ]
        }
      ],
      "source": [
        "!pip install tweet-preprocessor"
      ]
    },
    {
      "cell_type": "code",
      "source": [
        "#Importing required libraries\n",
        "import tweepy as tw\n",
        "import pandas as pd\n",
        "\n",
        "Key = 'u7L1lnR7HN85dn1qnTFO1cegb'\n",
        "Secret = 'QN1JrEmit2To46ZcwWAT4aI5QGWZXWRDDUPnMCWV5M66SFc8wT'\n",
        "\n",
        "Auth = tw.OAuthHandler(Key, Secret)\n",
        "Api = tw.API(Auth, wait_on_rate_limit=True)\n",
        "Hashtag = \"#Avengers\"\n",
        "\n",
        "Twitter_tweets = tw.Cursor(Api.search, q=Hashtag, lang=\"en\").items(1000)\n",
        "#Printing tweets\n",
        "Movie_tweets = [[tweet.user.screen_name,tweet.created_at, tweet.text] for tweet in Twitter_tweets]\n",
        "#Converting data into CSV file\n",
        "Twitter_Movie_tweets = pd.DataFrame(data=Movie_tweets, columns=['User_name','Posted_time', 'Text'])\n",
        "Twitter_Movie_tweets.to_csv(\"Avenger_tweets.csv\")\n",
        "Twitter_Movie_tweets"
      ],
      "metadata": {
        "colab": {
          "base_uri": "https://localhost:8080/",
          "height": 423
        },
        "id": "4nE9rZv7MOzk",
        "outputId": "a8074d52-322a-4661-b415-67a879b83781"
      },
      "execution_count": 29,
      "outputs": [
        {
          "output_type": "execute_result",
          "data": {
            "text/html": [
              "<div>\n",
              "<style scoped>\n",
              "    .dataframe tbody tr th:only-of-type {\n",
              "        vertical-align: middle;\n",
              "    }\n",
              "\n",
              "    .dataframe tbody tr th {\n",
              "        vertical-align: top;\n",
              "    }\n",
              "\n",
              "    .dataframe thead th {\n",
              "        text-align: right;\n",
              "    }\n",
              "</style>\n",
              "<table border=\"1\" class=\"dataframe\">\n",
              "  <thead>\n",
              "    <tr style=\"text-align: right;\">\n",
              "      <th></th>\n",
              "      <th>User_name</th>\n",
              "      <th>Posted_time</th>\n",
              "      <th>Text</th>\n",
              "    </tr>\n",
              "  </thead>\n",
              "  <tbody>\n",
              "    <tr>\n",
              "      <th>0</th>\n",
              "      <td>MacPawarut</td>\n",
              "      <td>2021-12-11 02:57:17</td>\n",
              "      <td>RT @MCU_Direct: #ShangChi's director says that...</td>\n",
              "    </tr>\n",
              "    <tr>\n",
              "      <th>1</th>\n",
              "      <td>lokibuckymackie</td>\n",
              "      <td>2021-12-11 02:56:12</td>\n",
              "      <td>RT @capsiclelover: missing tony stark so badly...</td>\n",
              "    </tr>\n",
              "    <tr>\n",
              "      <th>2</th>\n",
              "      <td>ETalkUK</td>\n",
              "      <td>2021-12-11 02:55:03</td>\n",
              "      <td>Tomorrow nights stream will be for The #PES 20...</td>\n",
              "    </tr>\n",
              "    <tr>\n",
              "      <th>3</th>\n",
              "      <td>NormalFan11</td>\n",
              "      <td>2021-12-11 02:53:30</td>\n",
              "      <td>RT @capsiclelover: missing tony stark so badly...</td>\n",
              "    </tr>\n",
              "    <tr>\n",
              "      <th>4</th>\n",
              "      <td>starrywanda</td>\n",
              "      <td>2021-12-11 02:53:17</td>\n",
              "      <td>RT @capsiclelover: missing tony stark so badly...</td>\n",
              "    </tr>\n",
              "    <tr>\n",
              "      <th>...</th>\n",
              "      <td>...</td>\n",
              "      <td>...</td>\n",
              "      <td>...</td>\n",
              "    </tr>\n",
              "    <tr>\n",
              "      <th>995</th>\n",
              "      <td>Dragonflight126</td>\n",
              "      <td>2021-12-08 22:27:47</td>\n",
              "      <td>RT @KwingsLetsPlays: More Gold Brick collectin...</td>\n",
              "    </tr>\n",
              "    <tr>\n",
              "      <th>996</th>\n",
              "      <td>lbxomar</td>\n",
              "      <td>2021-12-08 22:24:17</td>\n",
              "      <td>RT @capsiclelover: \"let me go, it's okay.\"\\n(c...</td>\n",
              "    </tr>\n",
              "    <tr>\n",
              "      <th>997</th>\n",
              "      <td>KwingsLetsPlays</td>\n",
              "      <td>2021-12-08 22:21:35</td>\n",
              "      <td>More Gold Brick collecting in LEGO Marvel Supe...</td>\n",
              "    </tr>\n",
              "    <tr>\n",
              "      <th>998</th>\n",
              "      <td>EWarynick</td>\n",
              "      <td>2021-12-08 22:20:46</td>\n",
              "      <td>Avengers # 221 #Marvel July 1982 She-Hulk Join...</td>\n",
              "    </tr>\n",
              "    <tr>\n",
              "      <th>999</th>\n",
              "      <td>ATSUMUSTOE</td>\n",
              "      <td>2021-12-08 22:17:53</td>\n",
              "      <td>RT @capsiclelover: ( cw // hawkeye episode 4 s...</td>\n",
              "    </tr>\n",
              "  </tbody>\n",
              "</table>\n",
              "<p>1000 rows × 3 columns</p>\n",
              "</div>"
            ],
            "text/plain": [
              "           User_name  ...                                               Text\n",
              "0         MacPawarut  ...  RT @MCU_Direct: #ShangChi's director says that...\n",
              "1    lokibuckymackie  ...  RT @capsiclelover: missing tony stark so badly...\n",
              "2            ETalkUK  ...  Tomorrow nights stream will be for The #PES 20...\n",
              "3        NormalFan11  ...  RT @capsiclelover: missing tony stark so badly...\n",
              "4        starrywanda  ...  RT @capsiclelover: missing tony stark so badly...\n",
              "..               ...  ...                                                ...\n",
              "995  Dragonflight126  ...  RT @KwingsLetsPlays: More Gold Brick collectin...\n",
              "996          lbxomar  ...  RT @capsiclelover: \"let me go, it's okay.\"\\n(c...\n",
              "997  KwingsLetsPlays  ...  More Gold Brick collecting in LEGO Marvel Supe...\n",
              "998        EWarynick  ...  Avengers # 221 #Marvel July 1982 She-Hulk Join...\n",
              "999       ATSUMUSTOE  ...  RT @capsiclelover: ( cw // hawkeye episode 4 s...\n",
              "\n",
              "[1000 rows x 3 columns]"
            ]
          },
          "metadata": {},
          "execution_count": 29
        }
      ]
    }
  ]
}